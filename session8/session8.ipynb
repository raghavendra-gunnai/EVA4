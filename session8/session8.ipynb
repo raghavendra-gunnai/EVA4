{
  "nbformat": 4,
  "nbformat_minor": 0,
  "metadata": {
    "colab": {
      "name": "session8.ipynb",
      "provenance": [],
      "collapsed_sections": [],
      "toc_visible": true,
      "authorship_tag": "ABX9TyOS3KwXlBNwjw0LFw6Ufju7",
      "include_colab_link": true
    },
    "kernelspec": {
      "name": "python3",
      "display_name": "Python 3"
    },
    "accelerator": "GPU"
  },
  "cells": [
    {
      "cell_type": "markdown",
      "metadata": {
        "id": "view-in-github",
        "colab_type": "text"
      },
      "source": [
        "<a href=\"https://colab.research.google.com/github/raghavendra-gunnai/EVA4/blob/master/session8.ipynb\" target=\"_parent\"><img src=\"https://colab.research.google.com/assets/colab-badge.svg\" alt=\"Open In Colab\"/></a>"
      ]
    },
    {
      "cell_type": "code",
      "metadata": {
        "id": "t_a-1OLadBtx",
        "colab_type": "code",
        "outputId": "80f1aab9-f79c-4959-eea8-7d4840f85f01",
        "colab": {
          "base_uri": "https://localhost:8080/",
          "height": 119
        }
      },
      "source": [
        "!pip install torchsummary\n",
        "!pip install torchvision"
      ],
      "execution_count": 1,
      "outputs": [
        {
          "output_type": "stream",
          "text": [
            "Requirement already satisfied: torchsummary in /usr/local/lib/python3.6/dist-packages (1.5.1)\n",
            "Requirement already satisfied: torchvision in /usr/local/lib/python3.6/dist-packages (0.5.0)\n",
            "Requirement already satisfied: numpy in /usr/local/lib/python3.6/dist-packages (from torchvision) (1.17.5)\n",
            "Requirement already satisfied: torch==1.4.0 in /usr/local/lib/python3.6/dist-packages (from torchvision) (1.4.0)\n",
            "Requirement already satisfied: six in /usr/local/lib/python3.6/dist-packages (from torchvision) (1.12.0)\n",
            "Requirement already satisfied: pillow>=4.1.1 in /usr/local/lib/python3.6/dist-packages (from torchvision) (6.2.2)\n"
          ],
          "name": "stdout"
        }
      ]
    },
    {
      "cell_type": "code",
      "metadata": {
        "id": "aPE12lRKQUAD",
        "colab_type": "code",
        "colab": {}
      },
      "source": [
        "from torchsummary import summary\n",
        "import torch\n",
        "import torch.nn as nn\n",
        "import torch.nn.functional as F\n",
        "import torch.optim as optim\n",
        "import torch\n",
        "import torchvision\n",
        "import torchvision.transforms as transforms\n",
        "from torchvision import datasets, transforms\n",
        "from torch.optim.lr_scheduler import StepLR\n",
        "import torch.nn.functional as F"
      ],
      "execution_count": 0,
      "outputs": []
    },
    {
      "cell_type": "code",
      "metadata": {
        "id": "G78yJM2L-GaM",
        "colab_type": "code",
        "outputId": "73186b5e-675a-4124-cdd8-cbb440bae43e",
        "colab": {
          "base_uri": "https://localhost:8080/",
          "height": 34
        }
      },
      "source": [
        "from google.colab import drive\n",
        "drive.mount('/content/drive')"
      ],
      "execution_count": 3,
      "outputs": [
        {
          "output_type": "stream",
          "text": [
            "Drive already mounted at /content/drive; to attempt to forcibly remount, call drive.mount(\"/content/drive\", force_remount=True).\n"
          ],
          "name": "stdout"
        }
      ]
    },
    {
      "cell_type": "code",
      "metadata": {
        "id": "FMWmcncm-cru",
        "colab_type": "code",
        "outputId": "0b26eadd-3726-47fa-a906-6949e9d7297f",
        "colab": {
          "base_uri": "https://localhost:8080/",
          "height": 51
        }
      },
      "source": [
        "# Created folder EVA4 and s8 in EVA4. Upload the py files in to s8 \n",
        "import sys\n",
        "sys.path.append('/content/drive/My Drive/EVA4/s8')\n",
        "!ls '/content/drive/My Drive/EVA4/s8'\n",
        "import resnet18_arch\n",
        "import data_loader\n",
        "from train_test import Trainer"
      ],
      "execution_count": 4,
      "outputs": [
        {
          "output_type": "stream",
          "text": [
            "cnn_model.py\t__init__.py  __pycache__       train_test.py\n",
            "data_loader.py\tmain.py      resnet18_arch.py  utils.py\n"
          ],
          "name": "stdout"
        }
      ]
    },
    {
      "cell_type": "markdown",
      "metadata": {
        "id": "EhEzlKb6acXk",
        "colab_type": "text"
      },
      "source": [
        "<h3> Load Train & Test Data"
      ]
    },
    {
      "cell_type": "code",
      "metadata": {
        "id": "Vy1vYlmvQfcc",
        "colab_type": "code",
        "outputId": "1442063f-5192-47f1-82d6-e2c4da6ce17d",
        "colab": {
          "base_uri": "https://localhost:8080/",
          "height": 51
        }
      },
      "source": [
        "train_loader, test_loader = data_loader.LoadData().load_data()"
      ],
      "execution_count": 5,
      "outputs": [
        {
          "output_type": "stream",
          "text": [
            "Files already downloaded and verified\n",
            "Files already downloaded and verified\n"
          ],
          "name": "stdout"
        }
      ]
    },
    {
      "cell_type": "markdown",
      "metadata": {
        "id": "nZ9kOxECboK1",
        "colab_type": "text"
      },
      "source": [
        "<h2>Load ResNet 18 Model </h2>\n",
        "<h3> Updated the Model to Return log_softmax </h3>"
      ]
    },
    {
      "cell_type": "code",
      "metadata": {
        "id": "2CSj9BJ1w2A5",
        "colab_type": "code",
        "colab": {
          "base_uri": "https://localhost:8080/",
          "height": 1000
        },
        "outputId": "fc45f581-8793-4235-8a1f-0002466a1b0e"
      },
      "source": [
        "device = torch.device(\"cuda\" if torch.cuda.is_available() else \"cpu\")\n",
        "model = resnet18_arch.ResNet18().to(torch.device(\"cuda\" if torch.cuda.is_available() else \"cpu\"))\n",
        "summary(model, input_size=(3, 32, 32))s"
      ],
      "execution_count": 6,
      "outputs": [
        {
          "output_type": "stream",
          "text": [
            "----------------------------------------------------------------\n",
            "        Layer (type)               Output Shape         Param #\n",
            "================================================================\n",
            "            Conv2d-1           [-1, 64, 32, 32]           1,728\n",
            "       BatchNorm2d-2           [-1, 64, 32, 32]             128\n",
            "            Conv2d-3           [-1, 64, 32, 32]          36,864\n",
            "       BatchNorm2d-4           [-1, 64, 32, 32]             128\n",
            "           Dropout-5           [-1, 64, 32, 32]               0\n",
            "            Conv2d-6           [-1, 64, 32, 32]          36,864\n",
            "       BatchNorm2d-7           [-1, 64, 32, 32]             128\n",
            "        BasicBlock-8           [-1, 64, 32, 32]               0\n",
            "            Conv2d-9           [-1, 64, 32, 32]          36,864\n",
            "      BatchNorm2d-10           [-1, 64, 32, 32]             128\n",
            "          Dropout-11           [-1, 64, 32, 32]               0\n",
            "           Conv2d-12           [-1, 64, 32, 32]          36,864\n",
            "      BatchNorm2d-13           [-1, 64, 32, 32]             128\n",
            "       BasicBlock-14           [-1, 64, 32, 32]               0\n",
            "           Conv2d-15          [-1, 128, 16, 16]          73,728\n",
            "      BatchNorm2d-16          [-1, 128, 16, 16]             256\n",
            "          Dropout-17          [-1, 128, 16, 16]               0\n",
            "           Conv2d-18          [-1, 128, 16, 16]         147,456\n",
            "      BatchNorm2d-19          [-1, 128, 16, 16]             256\n",
            "           Conv2d-20          [-1, 128, 16, 16]           8,192\n",
            "      BatchNorm2d-21          [-1, 128, 16, 16]             256\n",
            "       BasicBlock-22          [-1, 128, 16, 16]               0\n",
            "           Conv2d-23          [-1, 128, 16, 16]         147,456\n",
            "      BatchNorm2d-24          [-1, 128, 16, 16]             256\n",
            "          Dropout-25          [-1, 128, 16, 16]               0\n",
            "           Conv2d-26          [-1, 128, 16, 16]         147,456\n",
            "      BatchNorm2d-27          [-1, 128, 16, 16]             256\n",
            "       BasicBlock-28          [-1, 128, 16, 16]               0\n",
            "           Conv2d-29            [-1, 256, 8, 8]         294,912\n",
            "      BatchNorm2d-30            [-1, 256, 8, 8]             512\n",
            "          Dropout-31            [-1, 256, 8, 8]               0\n",
            "           Conv2d-32            [-1, 256, 8, 8]         589,824\n",
            "      BatchNorm2d-33            [-1, 256, 8, 8]             512\n",
            "           Conv2d-34            [-1, 256, 8, 8]          32,768\n",
            "      BatchNorm2d-35            [-1, 256, 8, 8]             512\n",
            "       BasicBlock-36            [-1, 256, 8, 8]               0\n",
            "           Conv2d-37            [-1, 256, 8, 8]         589,824\n",
            "      BatchNorm2d-38            [-1, 256, 8, 8]             512\n",
            "          Dropout-39            [-1, 256, 8, 8]               0\n",
            "           Conv2d-40            [-1, 256, 8, 8]         589,824\n",
            "      BatchNorm2d-41            [-1, 256, 8, 8]             512\n",
            "       BasicBlock-42            [-1, 256, 8, 8]               0\n",
            "           Conv2d-43            [-1, 512, 4, 4]       1,179,648\n",
            "      BatchNorm2d-44            [-1, 512, 4, 4]           1,024\n",
            "          Dropout-45            [-1, 512, 4, 4]               0\n",
            "           Conv2d-46            [-1, 512, 4, 4]       2,359,296\n",
            "      BatchNorm2d-47            [-1, 512, 4, 4]           1,024\n",
            "           Conv2d-48            [-1, 512, 4, 4]         131,072\n",
            "      BatchNorm2d-49            [-1, 512, 4, 4]           1,024\n",
            "       BasicBlock-50            [-1, 512, 4, 4]               0\n",
            "           Conv2d-51            [-1, 512, 4, 4]       2,359,296\n",
            "      BatchNorm2d-52            [-1, 512, 4, 4]           1,024\n",
            "          Dropout-53            [-1, 512, 4, 4]               0\n",
            "           Conv2d-54            [-1, 512, 4, 4]       2,359,296\n",
            "      BatchNorm2d-55            [-1, 512, 4, 4]           1,024\n",
            "       BasicBlock-56            [-1, 512, 4, 4]               0\n",
            "           Linear-57                   [-1, 10]           5,130\n",
            "================================================================\n",
            "Total params: 11,173,962\n",
            "Trainable params: 11,173,962\n",
            "Non-trainable params: 0\n",
            "----------------------------------------------------------------\n",
            "Input size (MB): 0.01\n",
            "Forward/backward pass size (MB): 13.13\n",
            "Params size (MB): 42.63\n",
            "Estimated Total Size (MB): 55.76\n",
            "----------------------------------------------------------------\n"
          ],
          "name": "stdout"
        }
      ]
    },
    {
      "cell_type": "markdown",
      "metadata": {
        "id": "ci-13GG8b3jE",
        "colab_type": "text"
      },
      "source": [
        "<h2>Define Loss & Train Model For 15 Epochs With Scheduler Step Size of 5</h2>"
      ]
    },
    {
      "cell_type": "code",
      "metadata": {
        "id": "k7rps6lPKkgh",
        "colab_type": "code",
        "colab": {
          "base_uri": "https://localhost:8080/",
          "height": 1000
        },
        "outputId": "e2b5a0b7-6209-42ab-dad6-95071013c711"
      },
      "source": [
        "EPOCHS=15\n",
        "criterion = nn.CrossEntropyLoss()\n",
        "optimizer = optim.SGD(model.parameters(), lr=0.05, momentum=0.9)\n",
        "scheduler = StepLR(optimizer, step_size=5, gamma=0.1)\n",
        "for epoch in range(EPOCHS):\n",
        "    print(\"EPOCH:\", epoch+1, 'LR:', scheduler.get_lr()[0])\n",
        "    Trainer().train(model, device, train_loader, optimizer,criterion)\n",
        "    scheduler.step()\n",
        "    Trainer().test(model, device, test_loader)"
      ],
      "execution_count": 8,
      "outputs": [
        {
          "output_type": "stream",
          "text": [
            "\r  0%|          | 0/391 [00:00<?, ?it/s]"
          ],
          "name": "stderr"
        },
        {
          "output_type": "stream",
          "text": [
            "EPOCH: 1 LR: 0.05\n"
          ],
          "name": "stdout"
        },
        {
          "output_type": "stream",
          "text": [
            "Loss=1.1191531419754028 Batch_id=390 Accuracy=42.60: 100%|██████████| 391/391 [03:26<00:00,  2.37it/s]\n",
            "  0%|          | 0/391 [00:00<?, ?it/s]"
          ],
          "name": "stderr"
        },
        {
          "output_type": "stream",
          "text": [
            "\n",
            "Test set: Average loss: 1.3346, Accuracy: 5074/10000 (50.74%)\n",
            "\n",
            "EPOCH: 2 LR: 0.05\n"
          ],
          "name": "stdout"
        },
        {
          "output_type": "stream",
          "text": [
            "Loss=0.8024889826774597 Batch_id=390 Accuracy=62.31: 100%|██████████| 391/391 [03:26<00:00,  2.37it/s]\n",
            "  0%|          | 0/391 [00:00<?, ?it/s]"
          ],
          "name": "stderr"
        },
        {
          "output_type": "stream",
          "text": [
            "\n",
            "Test set: Average loss: 0.9176, Accuracy: 6785/10000 (67.85%)\n",
            "\n",
            "EPOCH: 3 LR: 0.05\n"
          ],
          "name": "stdout"
        },
        {
          "output_type": "stream",
          "text": [
            "Loss=0.9880874752998352 Batch_id=390 Accuracy=72.63: 100%|██████████| 391/391 [03:26<00:00,  2.36it/s]\n",
            "  0%|          | 0/391 [00:00<?, ?it/s]"
          ],
          "name": "stderr"
        },
        {
          "output_type": "stream",
          "text": [
            "\n",
            "Test set: Average loss: 0.8180, Accuracy: 7159/10000 (71.59%)\n",
            "\n",
            "EPOCH: 4 LR: 0.05\n"
          ],
          "name": "stdout"
        },
        {
          "output_type": "stream",
          "text": [
            "Loss=0.5154455900192261 Batch_id=390 Accuracy=78.13: 100%|██████████| 391/391 [03:26<00:00,  2.40it/s]\n",
            "  0%|          | 0/391 [00:00<?, ?it/s]"
          ],
          "name": "stderr"
        },
        {
          "output_type": "stream",
          "text": [
            "\n",
            "Test set: Average loss: 0.6562, Accuracy: 7719/10000 (77.19%)\n",
            "\n",
            "EPOCH: 5 LR: 0.05\n"
          ],
          "name": "stdout"
        },
        {
          "output_type": "stream",
          "text": [
            "Loss=0.6192195415496826 Batch_id=390 Accuracy=81.43: 100%|██████████| 391/391 [03:25<00:00,  2.35it/s]\n",
            "  0%|          | 0/391 [00:00<?, ?it/s]"
          ],
          "name": "stderr"
        },
        {
          "output_type": "stream",
          "text": [
            "\n",
            "Test set: Average loss: 0.5968, Accuracy: 7964/10000 (79.64%)\n",
            "\n",
            "EPOCH: 6 LR: 0.0005000000000000001\n"
          ],
          "name": "stdout"
        },
        {
          "output_type": "stream",
          "text": [
            "Loss=0.3176170289516449 Batch_id=390 Accuracy=87.32: 100%|██████████| 391/391 [03:26<00:00,  2.35it/s]\n",
            "  0%|          | 0/391 [00:00<?, ?it/s]"
          ],
          "name": "stderr"
        },
        {
          "output_type": "stream",
          "text": [
            "\n",
            "Test set: Average loss: 0.4489, Accuracy: 8513/10000 (85.13%)\n",
            "\n",
            "EPOCH: 7 LR: 0.005000000000000001\n"
          ],
          "name": "stdout"
        },
        {
          "output_type": "stream",
          "text": [
            "Loss=0.4184185564517975 Batch_id=390 Accuracy=89.03: 100%|██████████| 391/391 [03:26<00:00,  2.36it/s]\n",
            "  0%|          | 0/391 [00:00<?, ?it/s]"
          ],
          "name": "stderr"
        },
        {
          "output_type": "stream",
          "text": [
            "\n",
            "Test set: Average loss: 0.4344, Accuracy: 8556/10000 (85.56%)\n",
            "\n",
            "EPOCH: 8 LR: 0.005000000000000001\n"
          ],
          "name": "stdout"
        },
        {
          "output_type": "stream",
          "text": [
            "Loss=0.33935654163360596 Batch_id=390 Accuracy=89.88: 100%|██████████| 391/391 [03:25<00:00,  2.35it/s]\n",
            "  0%|          | 0/391 [00:00<?, ?it/s]"
          ],
          "name": "stderr"
        },
        {
          "output_type": "stream",
          "text": [
            "\n",
            "Test set: Average loss: 0.4409, Accuracy: 8557/10000 (85.57%)\n",
            "\n",
            "EPOCH: 9 LR: 0.005000000000000001\n"
          ],
          "name": "stdout"
        },
        {
          "output_type": "stream",
          "text": [
            "Loss=0.33035218715667725 Batch_id=390 Accuracy=90.75: 100%|██████████| 391/391 [03:26<00:00,  2.36it/s]\n",
            "  0%|          | 0/391 [00:00<?, ?it/s]"
          ],
          "name": "stderr"
        },
        {
          "output_type": "stream",
          "text": [
            "\n",
            "Test set: Average loss: 0.4312, Accuracy: 8582/10000 (85.82%)\n",
            "\n",
            "EPOCH: 10 LR: 0.005000000000000001\n"
          ],
          "name": "stdout"
        },
        {
          "output_type": "stream",
          "text": [
            "Loss=0.19531944394111633 Batch_id=390 Accuracy=91.39: 100%|██████████| 391/391 [03:26<00:00,  2.38it/s]\n",
            "  0%|          | 0/391 [00:00<?, ?it/s]"
          ],
          "name": "stderr"
        },
        {
          "output_type": "stream",
          "text": [
            "\n",
            "Test set: Average loss: 0.4313, Accuracy: 8623/10000 (86.23%)\n",
            "\n",
            "EPOCH: 11 LR: 5.0000000000000016e-05\n"
          ],
          "name": "stdout"
        },
        {
          "output_type": "stream",
          "text": [
            "Loss=0.2826620936393738 Batch_id=390 Accuracy=92.59: 100%|██████████| 391/391 [03:25<00:00,  2.38it/s]\n",
            "  0%|          | 0/391 [00:00<?, ?it/s]"
          ],
          "name": "stderr"
        },
        {
          "output_type": "stream",
          "text": [
            "\n",
            "Test set: Average loss: 0.4279, Accuracy: 8662/10000 (86.62%)\n",
            "\n",
            "EPOCH: 12 LR: 0.0005000000000000001\n"
          ],
          "name": "stdout"
        },
        {
          "output_type": "stream",
          "text": [
            "Loss=0.17818427085876465 Batch_id=390 Accuracy=92.76: 100%|██████████| 391/391 [03:26<00:00,  2.37it/s]\n",
            "  0%|          | 0/391 [00:00<?, ?it/s]"
          ],
          "name": "stderr"
        },
        {
          "output_type": "stream",
          "text": [
            "\n",
            "Test set: Average loss: 0.4342, Accuracy: 8662/10000 (86.62%)\n",
            "\n",
            "EPOCH: 13 LR: 0.0005000000000000001\n"
          ],
          "name": "stdout"
        },
        {
          "output_type": "stream",
          "text": [
            "Loss=0.23649170994758606 Batch_id=390 Accuracy=92.87: 100%|██████████| 391/391 [03:26<00:00,  2.38it/s]\n",
            "  0%|          | 0/391 [00:00<?, ?it/s]"
          ],
          "name": "stderr"
        },
        {
          "output_type": "stream",
          "text": [
            "\n",
            "Test set: Average loss: 0.4360, Accuracy: 8667/10000 (86.67%)\n",
            "\n",
            "EPOCH: 14 LR: 0.0005000000000000001\n"
          ],
          "name": "stdout"
        },
        {
          "output_type": "stream",
          "text": [
            "Loss=0.24547919631004333 Batch_id=390 Accuracy=92.83: 100%|██████████| 391/391 [03:25<00:00,  2.37it/s]\n",
            "  0%|          | 0/391 [00:00<?, ?it/s]"
          ],
          "name": "stderr"
        },
        {
          "output_type": "stream",
          "text": [
            "\n",
            "Test set: Average loss: 0.4357, Accuracy: 8671/10000 (86.71%)\n",
            "\n",
            "EPOCH: 15 LR: 0.0005000000000000001\n"
          ],
          "name": "stdout"
        },
        {
          "output_type": "stream",
          "text": [
            "Loss=0.37141209840774536 Batch_id=390 Accuracy=93.12: 100%|██████████| 391/391 [03:26<00:00,  2.37it/s]\n"
          ],
          "name": "stderr"
        },
        {
          "output_type": "stream",
          "text": [
            "\n",
            "Test set: Average loss: 0.4384, Accuracy: 8662/10000 (86.62%)\n",
            "\n"
          ],
          "name": "stdout"
        }
      ]
    },
    {
      "cell_type": "code",
      "metadata": {
        "id": "vkzX4zOOjEN_",
        "colab_type": "code",
        "colab": {}
      },
      "source": [
        ""
      ],
      "execution_count": 0,
      "outputs": []
    }
  ]
}